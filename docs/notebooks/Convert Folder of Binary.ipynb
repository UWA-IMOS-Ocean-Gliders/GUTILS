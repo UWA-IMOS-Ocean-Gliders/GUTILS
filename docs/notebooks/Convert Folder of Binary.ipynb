{
 "cells": [
  {
   "cell_type": "code",
   "execution_count": 5,
   "metadata": {},
   "outputs": [],
   "source": [
    "from IPython.lib.pretty import pprint\n",
    "import logging\n",
    "logger = logging.getLogger('gutils')\n",
    "logger.handlers = [logging.StreamHandler()]\n",
    "logger.setLevel(logging.DEBUG)"
   ]
  },
  {
   "cell_type": "code",
   "execution_count": 6,
   "metadata": {},
   "outputs": [
    {
     "data": {
      "text/plain": [
       "PosixPath('/mnt/store/data/gutils/modena-20160909T1758')"
      ]
     },
     "execution_count": 6,
     "metadata": {},
     "output_type": "execute_result"
    }
   ],
   "source": [
    "import sys\n",
    "from pathlib import Path\n",
    "\n",
    "# Just a hack to be able to `import gutils`\n",
    "sys.path.append(str(Path('.').absolute().parent.parent))\n",
    "\n",
    "#deployment_name = 'modena-20150625T0000'\n",
    "#deployment_name = 'saltdawg-20160714T0000'\n",
    "#deployment_name = 'modena-20160714T0000'\n",
    "#deployment_name = 'pelagia-20180401T0000'\n",
    "deployment_name = 'modena-20160909T1758'\n",
    "\n",
    "deployment_folder = Path('/mnt/store/data/gutils/deployments') / deployment_name\n",
    "deployment_folder"
   ]
  },
  {
   "cell_type": "code",
   "execution_count": 7,
   "metadata": {},
   "outputs": [
    {
     "data": {
      "text/plain": [
       "{'deployment_path': '/mnt/store/data/gutils/modena-20160909T1758',\n",
       " 'mode': 'delayed',\n",
       " 'merger_class': gutils.slocum.SlocumMerger,\n",
       " 'reader_class': gutils.slocum.SlocumReader,\n",
       " 'subset': False,\n",
       " 'template': 'ioos_ngdac',\n",
       " 'profile_id_type': 1,\n",
       " 'workers': 4,\n",
       " 'tsint': 1,\n",
       " 'filter_z': 1,\n",
       " 'filter_points': 3,\n",
       " 'filter_time': 10,\n",
       " 'filter_distance': 1}"
      ]
     },
     "execution_count": 7,
     "metadata": {},
     "output_type": "execute_result"
    }
   ],
   "source": [
    "from gutils.nc import process_folder\n",
    "from gutils.slocum import SlocumMerger, SlocumReader\n",
    "\n",
    "filters = dict(\n",
    "    tsint=1,\n",
    "    filter_z=1,\n",
    "    filter_points=3,\n",
    "    filter_time=10,\n",
    "    filter_distance=1\n",
    ")\n",
    "\n",
    "kwargs = dict(\n",
    "    deployment_path=str(deployment_folder),\n",
    "    mode='delayed',\n",
    "    merger_class=SlocumMerger,\n",
    "    reader_class=SlocumReader,\n",
    "    subset=False,\n",
    "    template='ioos_ngdac',\n",
    "    profile_id_type=1,\n",
    "    workers=4,\n",
    "    **filters\n",
    ")\n",
    "kwargs"
   ]
  },
  {
   "cell_type": "code",
   "execution_count": 8,
   "metadata": {},
   "outputs": [
    {
     "name": "stdout",
     "output_type": "stream",
     "text": [
      "[]\n"
     ]
    }
   ],
   "source": [
    "process_folder(**kwargs)"
   ]
  },
  {
   "cell_type": "code",
   "execution_count": null,
   "metadata": {},
   "outputs": [],
   "source": []
  }
 ],
 "metadata": {
  "kernelspec": {
   "display_name": "Python 3",
   "language": "python",
   "name": "python3"
  },
  "language_info": {
   "codemirror_mode": {
    "name": "ipython",
    "version": 3
   },
   "file_extension": ".py",
   "mimetype": "text/x-python",
   "name": "python",
   "nbconvert_exporter": "python",
   "pygments_lexer": "ipython3",
   "version": "3.8.10"
  }
 },
 "nbformat": 4,
 "nbformat_minor": 4
}
